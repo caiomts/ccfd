{
  "nbformat": 4,
  "nbformat_minor": 0,
  "metadata": {
    "colab": {
      "provenance": []
    },
    "kernelspec": {
      "name": "python3",
      "display_name": "Python 3"
    },
    "language_info": {
      "name": "python"
    }
  },
  "cells": [
    {
      "cell_type": "markdown",
      "source": [
        "# Create Markdown in Jupyter\n",
        "\n",
        "1. Print a \"Hello World\".\n",
        "2. Download the .ipynb.\n",
        "3. check it in a repository.\n",
        "\n",
        "\n",
        "\n"
      ],
      "metadata": {
        "id": "Jm_tcILmEcd_"
      }
    },
    {
      "cell_type": "code",
      "execution_count": 1,
      "metadata": {
        "colab": {
          "base_uri": "https://localhost:8080/"
        },
        "id": "gzgGLXhpEUYC",
        "outputId": "78fd05f9-8276-4da4-8b28-3bb035db07d3"
      },
      "outputs": [
        {
          "output_type": "stream",
          "name": "stdout",
          "text": [
            "hello world\n"
          ]
        }
      ],
      "source": [
        "print('hello world')"
      ]
    },
    {
      "cell_type": "code",
      "source": [],
      "metadata": {
        "id": "sEFDcdGUEYyq"
      },
      "execution_count": null,
      "outputs": []
    }
  ]
}