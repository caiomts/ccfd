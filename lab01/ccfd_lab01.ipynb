{
  "nbformat": 4,
  "nbformat_minor": 0,
  "metadata": {
    "colab": {
      "provenance": [],
      "authorship_tag": "ABX9TyNjs37qqxSfbEO+89qPF6W9",
      "include_colab_link": true
    },
    "kernelspec": {
      "name": "python3",
      "display_name": "Python 3"
    },
    "language_info": {
      "name": "python"
    }
  },
  "cells": [
    {
      "cell_type": "markdown",
      "metadata": {
        "id": "view-in-github",
        "colab_type": "text"
      },
      "source": [
        "<a href=\"https://colab.research.google.com/github/caiomts/ccfd/blob/main/lab01/ccfd_lab01.ipynb\" target=\"_parent\"><img src=\"https://colab.research.google.com/assets/colab-badge.svg\" alt=\"Open In Colab\"/></a>"
      ]
    },
    {
      "cell_type": "markdown",
      "source": [
        "# Create Markdown in Jupyter\n",
        "\n",
        "1. Print a \"Hello World\".\n",
        "2. Download the .ipynb.\n",
        "3. check it in a repository.\n",
        "\n",
        "\n",
        "\n"
      ],
      "metadata": {
        "id": "Jm_tcILmEcd_"
      }
    },
    {
      "cell_type": "code",
      "execution_count": 1,
      "metadata": {
        "colab": {
          "base_uri": "https://localhost:8080/"
        },
        "id": "gzgGLXhpEUYC",
        "outputId": "78fd05f9-8276-4da4-8b28-3bb035db07d3"
      },
      "outputs": [
        {
          "output_type": "stream",
          "name": "stdout",
          "text": [
            "hello world\n"
          ]
        }
      ],
      "source": [
        "print('hello world')"
      ]
    },
    {
      "cell_type": "code",
      "source": [],
      "metadata": {
        "id": "sEFDcdGUEYyq"
      },
      "execution_count": null,
      "outputs": []
    }
  ]
}